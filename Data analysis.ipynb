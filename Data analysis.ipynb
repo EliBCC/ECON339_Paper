{
 "cells": [
  {
   "cell_type": "markdown",
   "id": "8fb132f2-87ba-474c-9a77-1978d59bb733",
   "metadata": {},
   "source": [
    "# Analysis of the influences of institutions on adoption of clean technology"
   ]
  },
  {
   "cell_type": "markdown",
   "id": "49762168-ad96-4a0a-a91e-2cf77b4bc441",
   "metadata": {},
   "source": [
    "## Data processing\n",
    "Datasets used: \n",
    "\n",
    "From Passport by Euromonitor:\n",
    "- Primary Energy Supply of Solar, Wind and Other Energy: Euromonitor International from International Energy Association (IEA)\n",
    "- Primary Energy Supply: Euromonitor International from International Energy Association (IEA)\n",
    "- Primary Energy Supply of Coal, Peat and Oil Shale: Euromonitor International from International Energy Association (IEA)\n",
    "- Primary Energy Supply of Geothermal Energy: Euromonitor International from International Energy Association (IEA)\n",
    "- Primary Energy Supply of Biofuels and Waste: Euromonitor International from International Energy Association (IEA)\n",
    "- Primary Energy Supply of Hydro Energy: Euromonitor International from International Energy Association (IEA)\n",
    "- Primary Energy Supply of Nuclear Energy: Euromonitor International from International Energy Association (IEA)\n",
    "- Primary Energy Supply of Crude Oil and Natural Gas Liquids (NGL): Euromonitor International from International Energy Association (IEA)\n",
    "- Property Rights Ranking: Euromonitor International from The Heritage Foundation\n",
    "- Natural Resources Rents: Euromonitor International from World Bank\n",
    "\n",
    "Other datasets\n",
    "- World Income Inequality Database (WIID) Companion dataset (wiidcountry and/or wiidglobal)\n",
    "- V-Dem [Country–Year/Country–Date] Dataset v11.1\n",
    "\n",
    "### Import data"
   ]
  },
  {
   "cell_type": "code",
   "execution_count": 175,
   "id": "5fa0b87c-1de8-4c11-86cb-5707eb5d1288",
   "metadata": {},
   "outputs": [],
   "source": [
    "import pandas as pd\n",
    "import numpy as np"
   ]
  },
  {
   "cell_type": "code",
   "execution_count": 176,
   "id": "2c98b2b9-c34b-4efe-98e8-2623ae68294d",
   "metadata": {},
   "outputs": [],
   "source": [
    "solar_wind_other = pd.read_excel(\"./Datasets/Solar Wind Other.xls\", header = 5)\n",
    "all_energy = pd.read_excel(\"./Datasets/All energy.xls\", header = 5, skipfooter = 6)\n",
    "coal_peat_oil = pd.read_excel(\"./Datasets/Coal Peat Oil.xls\", header = 5, skipfooter = 6)\n",
    "geothermal = pd.read_excel(\"./Datasets/Geothermal.xls\", header = 5)\n",
    "biogas = pd.read_excel(\"./Datasets/Biogas.xls\", header = 5)\n",
    "hydro = pd.read_excel(\"./Datasets/Hydro.xls\", header = 5)\n",
    "nuclear = pd.read_excel(\"./Datasets/nuclear.xls\", header = 5, skipfooter = 6)\n",
    "oil_gas = pd.read_excel(\"./Datasets/Oil Gas.xls\", header = 5)\n",
    "property_rights = pd.read_excel(\"./Datasets/Property rights.xls\", header = 5, skipfooter = 6)\n",
    "rents = pd.read_excel(\"./Datasets/Resource rents.xls\", header = 5)\n",
    "wiid = pd.read_excel(\"./Datasets/WIID.xlsx\")\n",
    "democracy = pd.read_csv(\"./Datasets/democracy.csv\")"
   ]
  },
  {
   "cell_type": "markdown",
   "id": "4215bd85-dba0-49f8-835a-65516eceffcf",
   "metadata": {},
   "source": [
    "### Process data"
   ]
  },
  {
   "cell_type": "code",
   "execution_count": 535,
   "id": "19a4ee2c-6146-48a6-ad26-8365e96967c1",
   "metadata": {},
   "outputs": [],
   "source": [
    "# Solar Wind Other\n",
    "solar_processed = solar_wind_other.set_index(\"Geography\")[[\"2015\",\"2019\"]].replace(\"-\", 0)\n",
    "\n",
    "# All energy\n",
    "all_processed = all_energy.set_index(\"Geography\")[[\"2015\",\"2019\"]].replace(\"-\", 0)\n",
    "\n",
    "# Coal Peat Oil\n",
    "coal_processed = coal_peat_oil.set_index(\"Geography\")[[\"2015\",\"2019\"]].replace(\"-\", 0)\n",
    "\n",
    "# Biogas\n",
    "biogas_processed = biogas.set_index(\"Geography\")[[\"2015\",\"2019\"]].replace(\"-\", 0)\n",
    "\n",
    "# Hydro\n",
    "hydro_processed = hydro.set_index(\"Geography\")[[\"2015\",\"2019\"]].replace(\"-\", 0)\n",
    "\n",
    "# Geothermal\n",
    "geothermal_processed = geothermal.set_index(\"Geography\")[[\"2015\",\"2019\"]].replace(\"-\", 0)\n",
    "\n",
    "# Nuclear\n",
    "## Clean data\n",
    "nuclear_processed = nuclear.set_index(\"Geography\")[[\"2015\",\"2019\"]].replace(\"-\", 0)\n",
    "## Convert to million barrels of oil\n",
    "# According to the US EIA, 1 Wh = 8.598e-8 tonnes of oil equivelent, and 1 KWh = 1000 Wh\n",
    "kwh_to_tonnes_oil = 8.595E-8 * 1000 / 10E6\n",
    "nuclear_processed = nuclear_processed.apply(lambda energy: energy * kwh_to_tonnes_oil)\n",
    "\n",
    "# Oil Gas\n",
    "oil_processed = oil_gas.set_index(\"Geography\")[[\"2015\",\"2019\"]].replace(\"-\", 0)\n",
    "\n",
    "# Property Rights\n",
    "property_processed = property_rights.set_index(\"Geography\")[[\"2019\"]]\n",
    "property_processed = property_processed.rename(index={\"USA\": \"United States\"})\n",
    "property_processed = property_processed.rename(columns = {\"2019\": \"Property rights score\"})\n",
    "\n",
    "# Rents\n",
    "rents_processed = rents.set_index(\"Geography\")[[\"2019\"]].replace(\"-\", 0)\n",
    "rents_processed = rents_processed.rename(index={\"USA\": \"United States\"})\n",
    "rents_processed = rents_processed.rename(columns = {\"2019\": \"Resource rents\"})\n",
    "\n",
    "# WIID\n",
    "wiid_processed = wiid.set_index(\"country\")[[\"year\", \"palma\", \"gdp\", \"quality\", \"oecd\"]]\n",
    "wiid_processed = wiid_processed.dropna()\n",
    "wiid_processed = wiid_processed[wiid_processed[\"year\"] > 2000]\n",
    "groups = wiid_processed.groupby(\"country\")\n",
    "palma_processed_list = []\n",
    "\n",
    "def filter_palma(group):\n",
    "    df = group[1]   # Get dataframe\n",
    "    most_recent_year = df.iloc[-1][\"year\"]   # Get the most recent year for which there's data, and ignore older data\n",
    "    df_latest = df[df[\"year\"] == most_recent_year]\n",
    "    best_quality = \"High\" if df_latest[\"quality\"].str.contains(\"High\").any() else (\"Average\" if df_latest[\"quality\"].str.contains(\"Average\").any() else \"Low\")\n",
    "    df_latest_best = df_latest[df_latest[\"quality\"] == best_quality]   # Get best quality data, and ignore lower quality data\n",
    "    mean_palma = df_latest_best[\"palma\"].mean()  # If we still have multiple rows, average scores\n",
    "    mean_gdp = df_latest_best[\"gdp\"].mean()\n",
    "    oecd = df_latest_best[\"oecd\"].mode()\n",
    "    return[group[0], mean_palma, mean_gdp, oecd]\n",
    "    \n",
    "for group in groups:\n",
    "    palma_processed_list.append(filter_palma(group))\n",
    "\n",
    "palma_processed = pd.DataFrame(palma_processed_list, columns = [\"country\", \"palma\", \"gdp\", \"oecd\"]).set_index(\"country\")\n",
    "gdp_processed = palma_processed[\"gdp\"]\n",
    "oecd_processed = palma_processed[\"oecd\"].to_frame()\n",
    "palma_processed = palma_processed[\"palma\"].to_frame()\n",
    "palma_processed = palma_processed.rename(columns = {\"palma\": \"Palma\"})\n",
    "\n",
    "# Democracy\n",
    "democracy_processed = democracy.set_index(\"country_name\")[[\"year\",\"v2x_polyarchy\"]]\n",
    "democracy_processed = democracy_processed.dropna()\n",
    "democracy_processed = democracy_processed[democracy_processed[\"year\"] > 2000] # Clear any data from before 2000\n",
    "democracy_processed = democracy_processed.rename(index={\"United States of America\": \"United States\"})\n",
    "# Keep only the data from the most recent year\n",
    "democracy_processed = democracy_processed.reset_index().drop_duplicates(subset = [\"country_name\"], keep = 'last').set_index(\"country_name\")\n",
    "democracy_processed = democracy_processed.rename(columns = {\"v2x_polyarchy\": \"Electoral democracy index\"})\n",
    "democracy_processed = democracy_processed[\"Electoral democracy index\"]"
   ]
  },
  {
   "cell_type": "markdown",
   "id": "71a48b9f-22ba-49c6-9bdd-edb34f962cb3",
   "metadata": {},
   "source": [
    "### Synthesize data"
   ]
  },
  {
   "cell_type": "code",
   "execution_count": 564,
   "id": "68fe23ce-0774-457b-a615-3c7fd245510f",
   "metadata": {},
   "outputs": [],
   "source": [
    "all_renewables = pd.concat([solar_processed, biogas_processed, hydro_processed, geothermal_processed, nuclear_processed])\n",
    "all_renewables = all_renewables.groupby(\"Geography\")\n",
    "all_renewables = all_renewables.sum()\n",
    "all_renewables[\"renew_change\"] = all_renewables[\"2019\"] - all_renewables[\"2015\"]\n",
    "all_renewables = all_renewables.rename(index={\"USA\": \"United States\"})\n",
    "\n",
    "all_nonrenewables = pd.concat([coal_processed, oil_processed])\n",
    "all_nonrenewables = all_nonrenewables.groupby(\"Geography\")\n",
    "all_nonrenewables = all_nonrenewables.sum()\n",
    "all_nonrenewables[\"nonrenew_change\"] = all_nonrenewables[\"2019\"] - all_nonrenewables[\"2015\"]\n",
    "all_nonrenewables = all_nonrenewables.rename(index={\"USA\": \"United States\"})\n",
    "\n",
    "all_processed[\"energy_change\"] = all_processed[\"2019\"] - all_processed[\"2015\"]\n",
    "\n",
    "oecd_mapped = oecd_processed.applymap(lambda cell: 1 if cell[0] == \"OECD\" else 0)\n",
    "\n",
    "country_lists = []\n",
    "renewables_country_list = all_renewables.index.to_list()\n",
    "country_lists.append(renewables_country_list)\n",
    "nonrenewables_country_list = all_nonrenewables.index.to_list()\n",
    "country_lists.append(nonrenewables_country_list)\n",
    "energy_country_list = all_processed.index.to_list()\n",
    "country_lists.append(energy_country_list)\n",
    "property_country_list = property_processed.index.to_list()\n",
    "country_lists.append(property_country_list)\n",
    "rents_country_list = rents_processed.index.to_list()\n",
    "country_lists.append(rents_country_list)\n",
    "gdp_country_list = gdp_processed.index.to_list()\n",
    "country_lists.append(gdp_country_list)\n",
    "palma_country_list = palma_processed.index.to_list()\n",
    "country_lists.append(palma_country_list)\n",
    "oecd_country_list = oecd_processed.index.to_list()\n",
    "country_lists.append(oecd_country_list)\n",
    "democracy_country_list = democracy_processed.index.to_list()\n",
    "country_lists.append(democracy_country_list)\n",
    "\n",
    "common_list = set(country_lists[0])\n",
    "for lst in country_lists:\n",
    "    common_list = common_list.intersection(lst)\n",
    "\n",
    "common_list = list(common_list)\n",
    "\n",
    "# Filter so we have the same countries across all datasets\n",
    "all_renewables = all_renewables.loc[common_list]\n",
    "all_nonrenewables = all_nonrenewables.loc[common_list]\n",
    "all_processed = all_processed.loc[common_list]\n",
    "property_processed = property_processed.loc[common_list]\n",
    "rents_processed = rents_processed.loc[common_list]\n",
    "gdp_processed = gdp_processed.loc[common_list]\n",
    "palma_processed = palma_processed.loc[common_list]\n",
    "oecd_processed = oecd_processed.loc[common_list]\n",
    "democracy_processed = democracy_processed.loc[common_list]\n",
    "\n",
    "# Scale resources by gdp\n",
    "all_renewables = all_renewables.div(gdp_processed, axis = 0)\n",
    "all_nonrenewables = all_nonrenewables.div(gdp_processed, axis = 0)\n",
    "all_processed = all_processed.div(gdp_processed, axis = 0)"
   ]
  },
  {
   "cell_type": "markdown",
   "id": "ea70d57e-c331-4778-a995-05d952fda091",
   "metadata": {},
   "source": [
    "## Creating a model\n",
    "### Predicting renewables"
   ]
  },
  {
   "cell_type": "code",
   "execution_count": 565,
   "id": "50db39e5-9ed7-43b1-b263-3745c79bf8d8",
   "metadata": {},
   "outputs": [],
   "source": [
    "X_renew = pd.concat([all_renewables[\"renew_change\"], property_processed, rents_processed, palma_processed, democracy_processed], axis = 1)\n",
    "\n",
    "X_renew_normal =(X_renew-X_renew.min())/(X_renew.max()-X_renew.min())\n",
    "labels_renew = X_renew_normal.keys()"
   ]
  },
  {
   "cell_type": "markdown",
   "id": "6cf37883-1c25-4451-8758-e3e6cc06c477",
   "metadata": {},
   "source": [
    "#### PCA Analysis"
   ]
  },
  {
   "cell_type": "code",
   "execution_count": 566,
   "id": "5ba4df49-2600-4a56-969c-25615889ffa0",
   "metadata": {},
   "outputs": [
    {
     "data": {
      "text/html": [
       "<div>\n",
       "<style scoped>\n",
       "    .dataframe tbody tr th:only-of-type {\n",
       "        vertical-align: middle;\n",
       "    }\n",
       "\n",
       "    .dataframe tbody tr th {\n",
       "        vertical-align: top;\n",
       "    }\n",
       "\n",
       "    .dataframe thead th {\n",
       "        text-align: right;\n",
       "    }\n",
       "</style>\n",
       "<table border=\"1\" class=\"dataframe\">\n",
       "  <thead>\n",
       "    <tr style=\"text-align: right;\">\n",
       "      <th></th>\n",
       "      <th>renew_change</th>\n",
       "      <th>Property rights score</th>\n",
       "      <th>Resource rents</th>\n",
       "      <th>Palma</th>\n",
       "      <th>Electoral democracy index</th>\n",
       "    </tr>\n",
       "  </thead>\n",
       "  <tbody>\n",
       "    <tr>\n",
       "      <th>0</th>\n",
       "      <td>0.052939</td>\n",
       "      <td>-0.500064</td>\n",
       "      <td>0.231569</td>\n",
       "      <td>0.040000</td>\n",
       "      <td>-0.831811</td>\n",
       "    </tr>\n",
       "    <tr>\n",
       "      <th>1</th>\n",
       "      <td>-0.087465</td>\n",
       "      <td>-0.653660</td>\n",
       "      <td>-0.008819</td>\n",
       "      <td>0.626666</td>\n",
       "      <td>0.415078</td>\n",
       "    </tr>\n",
       "    <tr>\n",
       "      <th>2</th>\n",
       "      <td>-0.207070</td>\n",
       "      <td>0.113221</td>\n",
       "      <td>0.954091</td>\n",
       "      <td>-0.018891</td>\n",
       "      <td>0.183458</td>\n",
       "    </tr>\n",
       "    <tr>\n",
       "      <th>3</th>\n",
       "      <td>0.372945</td>\n",
       "      <td>0.511218</td>\n",
       "      <td>0.078383</td>\n",
       "      <td>0.736331</td>\n",
       "      <td>-0.226367</td>\n",
       "    </tr>\n",
       "  </tbody>\n",
       "</table>\n",
       "</div>"
      ],
      "text/plain": [
       "   renew_change  Property rights score  Resource rents     Palma  \\\n",
       "0      0.052939              -0.500064        0.231569  0.040000   \n",
       "1     -0.087465              -0.653660       -0.008819  0.626666   \n",
       "2     -0.207070               0.113221        0.954091 -0.018891   \n",
       "3      0.372945               0.511218        0.078383  0.736331   \n",
       "\n",
       "   Electoral democracy index  \n",
       "0                  -0.831811  \n",
       "1                   0.415078  \n",
       "2                   0.183458  \n",
       "3                  -0.226367  "
      ]
     },
     "execution_count": 566,
     "metadata": {},
     "output_type": "execute_result"
    }
   ],
   "source": [
    "from sklearn.decomposition import PCA\n",
    "pca = PCA(n_components=4)\n",
    "pca.fit(X_renew_normal)\n",
    "components = pca.components_\n",
    "\n",
    "principalDF = pd.DataFrame(data = components, columns = labels_renew)\n",
    "principalDF"
   ]
  },
  {
   "cell_type": "markdown",
   "id": "bfcf345b-457e-4a18-b201-8600d0a6f7fe",
   "metadata": {},
   "source": [
    "#### Linear Regression"
   ]
  },
  {
   "cell_type": "code",
   "execution_count": 573,
   "id": "213c9401-d2b0-464a-8ede-9505180e68fc",
   "metadata": {},
   "outputs": [
    {
     "data": {
      "text/html": [
       "<div>\n",
       "<style scoped>\n",
       "    .dataframe tbody tr th:only-of-type {\n",
       "        vertical-align: middle;\n",
       "    }\n",
       "\n",
       "    .dataframe tbody tr th {\n",
       "        vertical-align: top;\n",
       "    }\n",
       "\n",
       "    .dataframe thead th {\n",
       "        text-align: right;\n",
       "    }\n",
       "</style>\n",
       "<table border=\"1\" class=\"dataframe\">\n",
       "  <thead>\n",
       "    <tr style=\"text-align: right;\">\n",
       "      <th></th>\n",
       "      <th>Property rights score</th>\n",
       "      <th>Resource rents</th>\n",
       "      <th>Palma</th>\n",
       "      <th>Electoral democracy index</th>\n",
       "    </tr>\n",
       "  </thead>\n",
       "  <tbody>\n",
       "    <tr>\n",
       "      <th>Change in renewables</th>\n",
       "      <td>0.028595</td>\n",
       "      <td>-0.077362</td>\n",
       "      <td>0.028645</td>\n",
       "      <td>-0.094573</td>\n",
       "    </tr>\n",
       "  </tbody>\n",
       "</table>\n",
       "</div>"
      ],
      "text/plain": [
       "                      Property rights score  Resource rents     Palma  \\\n",
       "Change in renewables               0.028595       -0.077362  0.028645   \n",
       "\n",
       "                      Electoral democracy index  \n",
       "Change in renewables                  -0.094573  "
      ]
     },
     "metadata": {},
     "output_type": "display_data"
    },
    {
     "name": "stdout",
     "output_type": "stream",
     "text": [
      "0.04228436603791064\n"
     ]
    }
   ],
   "source": [
    "from sklearn import linear_model\n",
    "from sklearn import metrics\n",
    "\n",
    "y = X_renew_normal[[labels_renew[0]]]\n",
    "X = X_renew_normal[labels_renew[1:]]\n",
    "\n",
    "lr_model = linear_model.LinearRegression()\n",
    "lr_model.fit(X, y)\n",
    "lr_model.coef_\n",
    "renew_coefs = pd.DataFrame(lr_model.coef_, columns = labels[1:], index = [\"Change in renewables\"])\n",
    "display(renew_coefs)\n",
    "renew_pred = lr_model.predict(X)\n",
    "r2_renew = metrics.r2_score(y, renew_pred)\n",
    "print(r2_renew)"
   ]
  },
  {
   "cell_type": "markdown",
   "id": "b036b287-6520-479e-b025-d74dc453a36a",
   "metadata": {},
   "source": [
    "### Predicting Non-renewables"
   ]
  },
  {
   "cell_type": "code",
   "execution_count": 574,
   "id": "aef884da-0e97-46f0-b530-83d3f2984312",
   "metadata": {},
   "outputs": [],
   "source": [
    "X_nonrenew = pd.concat([all_nonrenewables[\"nonrenew_change\"], property_processed, rents_processed, palma_processed, democracy_processed], axis = 1)\n",
    "\n",
    "X_nonrenew_normal =(X_nonrenew-X_nonrenew.min())/(X_nonrenew.max()-X_nonrenew.min())\n",
    "labels_nonrenew = X_nonrenew_normal.keys()"
   ]
  },
  {
   "cell_type": "markdown",
   "id": "140161e7-8725-4273-8bcf-8797734eb704",
   "metadata": {},
   "source": [
    "#### PCA Analysis"
   ]
  },
  {
   "cell_type": "code",
   "execution_count": 575,
   "id": "34b69fc3-d866-41ee-906a-75c7eb7c7270",
   "metadata": {},
   "outputs": [
    {
     "data": {
      "text/html": [
       "<div>\n",
       "<style scoped>\n",
       "    .dataframe tbody tr th:only-of-type {\n",
       "        vertical-align: middle;\n",
       "    }\n",
       "\n",
       "    .dataframe tbody tr th {\n",
       "        vertical-align: top;\n",
       "    }\n",
       "\n",
       "    .dataframe thead th {\n",
       "        text-align: right;\n",
       "    }\n",
       "</style>\n",
       "<table border=\"1\" class=\"dataframe\">\n",
       "  <thead>\n",
       "    <tr style=\"text-align: right;\">\n",
       "      <th></th>\n",
       "      <th>nonrenew_change</th>\n",
       "      <th>Property rights score</th>\n",
       "      <th>Resource rents</th>\n",
       "      <th>Palma</th>\n",
       "      <th>Electoral democracy index</th>\n",
       "    </tr>\n",
       "  </thead>\n",
       "  <tbody>\n",
       "    <tr>\n",
       "      <th>0</th>\n",
       "      <td>0.064906</td>\n",
       "      <td>-0.498836</td>\n",
       "      <td>0.231258</td>\n",
       "      <td>0.039862</td>\n",
       "      <td>-0.831794</td>\n",
       "    </tr>\n",
       "    <tr>\n",
       "      <th>1</th>\n",
       "      <td>-0.240606</td>\n",
       "      <td>-0.634891</td>\n",
       "      <td>0.150293</td>\n",
       "      <td>0.574811</td>\n",
       "      <td>0.431308</td>\n",
       "    </tr>\n",
       "    <tr>\n",
       "      <th>2</th>\n",
       "      <td>-0.164357</td>\n",
       "      <td>0.225373</td>\n",
       "      <td>0.942953</td>\n",
       "      <td>-0.146811</td>\n",
       "      <td>0.107143</td>\n",
       "    </tr>\n",
       "    <tr>\n",
       "      <th>3</th>\n",
       "      <td>0.507268</td>\n",
       "      <td>0.409473</td>\n",
       "      <td>0.120716</td>\n",
       "      <td>0.735954</td>\n",
       "      <td>-0.137151</td>\n",
       "    </tr>\n",
       "  </tbody>\n",
       "</table>\n",
       "</div>"
      ],
      "text/plain": [
       "   nonrenew_change  Property rights score  Resource rents     Palma  \\\n",
       "0         0.064906              -0.498836        0.231258  0.039862   \n",
       "1        -0.240606              -0.634891        0.150293  0.574811   \n",
       "2        -0.164357               0.225373        0.942953 -0.146811   \n",
       "3         0.507268               0.409473        0.120716  0.735954   \n",
       "\n",
       "   Electoral democracy index  \n",
       "0                  -0.831794  \n",
       "1                   0.431308  \n",
       "2                   0.107143  \n",
       "3                  -0.137151  "
      ]
     },
     "execution_count": 575,
     "metadata": {},
     "output_type": "execute_result"
    }
   ],
   "source": [
    "from sklearn.decomposition import PCA\n",
    "pca = PCA(n_components=4)\n",
    "pca.fit(X_nonrenew_normal)\n",
    "components = pca.components_\n",
    "\n",
    "principalDF = pd.DataFrame(data = components, columns = labels_nonrenew)\n",
    "principalDF"
   ]
  },
  {
   "cell_type": "code",
   "execution_count": 577,
   "id": "0dc40111-be6e-4acd-b22c-6bec1faaba6e",
   "metadata": {},
   "outputs": [
    {
     "data": {
      "text/html": [
       "<div>\n",
       "<style scoped>\n",
       "    .dataframe tbody tr th:only-of-type {\n",
       "        vertical-align: middle;\n",
       "    }\n",
       "\n",
       "    .dataframe tbody tr th {\n",
       "        vertical-align: top;\n",
       "    }\n",
       "\n",
       "    .dataframe thead th {\n",
       "        text-align: right;\n",
       "    }\n",
       "</style>\n",
       "<table border=\"1\" class=\"dataframe\">\n",
       "  <thead>\n",
       "    <tr style=\"text-align: right;\">\n",
       "      <th></th>\n",
       "      <th>Property rights score</th>\n",
       "      <th>Resource rents</th>\n",
       "      <th>Palma</th>\n",
       "      <th>Electoral democracy index</th>\n",
       "    </tr>\n",
       "  </thead>\n",
       "  <tbody>\n",
       "    <tr>\n",
       "      <th>Change in nonrenewables</th>\n",
       "      <td>0.090705</td>\n",
       "      <td>-0.070644</td>\n",
       "      <td>0.039512</td>\n",
       "      <td>-0.142085</td>\n",
       "    </tr>\n",
       "  </tbody>\n",
       "</table>\n",
       "</div>"
      ],
      "text/plain": [
       "                         Property rights score  Resource rents     Palma  \\\n",
       "Change in nonrenewables               0.090705       -0.070644  0.039512   \n",
       "\n",
       "                         Electoral democracy index  \n",
       "Change in nonrenewables                  -0.142085  "
      ]
     },
     "metadata": {},
     "output_type": "display_data"
    },
    {
     "name": "stdout",
     "output_type": "stream",
     "text": [
      "0.0710283094555848\n"
     ]
    }
   ],
   "source": [
    "from sklearn import linear_model\n",
    "\n",
    "y = X_nonrenew_normal[[labels_nonrenew[0]]]\n",
    "X = X_nonrenew_normal[labels_nonrenew[1:]]\n",
    "\n",
    "lr_model = linear_model.LinearRegression()\n",
    "lr_model.fit(X, y)\n",
    "lr_model.coef_\n",
    "nonrenew_coefs = pd.DataFrame(lr_model.coef_, columns = labels[1:], index = [\"Change in nonrenewables\"])\n",
    "display(nonrenew_coefs)\n",
    "nonrenew_pred = lr_model.predict(X)\n",
    "r2_nonrenew = metrics.r2_score(y, nonrenew_pred)\n",
    "print(r2_nonrenew)"
   ]
  },
  {
   "cell_type": "markdown",
   "id": "3beab3b4-0663-461f-8c73-58f196ed61da",
   "metadata": {},
   "source": [
    "## Visualizing Results"
   ]
  },
  {
   "cell_type": "code",
   "execution_count": 571,
   "id": "5a4b2d98-9a78-4dec-b29e-a2034df1221d",
   "metadata": {},
   "outputs": [
    {
     "data": {
      "text/html": [
       "<div>\n",
       "<style scoped>\n",
       "    .dataframe tbody tr th:only-of-type {\n",
       "        vertical-align: middle;\n",
       "    }\n",
       "\n",
       "    .dataframe tbody tr th {\n",
       "        vertical-align: top;\n",
       "    }\n",
       "\n",
       "    .dataframe thead th {\n",
       "        text-align: right;\n",
       "    }\n",
       "</style>\n",
       "<table border=\"1\" class=\"dataframe\">\n",
       "  <thead>\n",
       "    <tr style=\"text-align: right;\">\n",
       "      <th></th>\n",
       "      <th>Property rights score</th>\n",
       "      <th>Resource rents</th>\n",
       "      <th>Palma</th>\n",
       "      <th>Electoral democracy index</th>\n",
       "    </tr>\n",
       "  </thead>\n",
       "  <tbody>\n",
       "    <tr>\n",
       "      <th>Change in renewables</th>\n",
       "      <td>0.028595</td>\n",
       "      <td>-0.077362</td>\n",
       "      <td>0.028645</td>\n",
       "      <td>-0.094573</td>\n",
       "    </tr>\n",
       "    <tr>\n",
       "      <th>Change in nonrenewables</th>\n",
       "      <td>0.090705</td>\n",
       "      <td>-0.070644</td>\n",
       "      <td>0.039512</td>\n",
       "      <td>-0.142085</td>\n",
       "    </tr>\n",
       "  </tbody>\n",
       "</table>\n",
       "</div>"
      ],
      "text/plain": [
       "                         Property rights score  Resource rents     Palma  \\\n",
       "Change in renewables                  0.028595       -0.077362  0.028645   \n",
       "Change in nonrenewables               0.090705       -0.070644  0.039512   \n",
       "\n",
       "                         Electoral democracy index  \n",
       "Change in renewables                     -0.094573  \n",
       "Change in nonrenewables                  -0.142085  "
      ]
     },
     "execution_count": 571,
     "metadata": {},
     "output_type": "execute_result"
    }
   ],
   "source": [
    "results = pd.concat([renew_coefs, nonrenew_coefs], axis = 0)\n",
    "results"
   ]
  }
 ],
 "metadata": {
  "kernelspec": {
   "display_name": "Python 3",
   "language": "python",
   "name": "python3"
  },
  "language_info": {
   "codemirror_mode": {
    "name": "ipython",
    "version": 3
   },
   "file_extension": ".py",
   "mimetype": "text/x-python",
   "name": "python",
   "nbconvert_exporter": "python",
   "pygments_lexer": "ipython3",
   "version": "3.8.8"
  }
 },
 "nbformat": 4,
 "nbformat_minor": 5
}
